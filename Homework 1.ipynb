{
 "cells": [
  {
   "cell_type": "code",
   "execution_count": 97,
   "id": "5844d100",
   "metadata": {},
   "outputs": [],
   "source": [
    "import pandas as pd\n",
    "import numpy as np\n",
    "from sklearn.feature_extraction import DictVectorizer\n",
    "from sklearn.linear_model import LinearRegression\n",
    "from sklearn.metrics import mean_squared_error\n",
    "import seaborn as sns\n",
    "import matplotlib.pyplot as plt\n",
    "%matplotlib inline"
   ]
  },
  {
   "cell_type": "markdown",
   "id": "1b21be6d",
   "metadata": {},
   "source": [
    "# • Q1\n",
    "### Read the data for January. How many records are there?"
   ]
  },
  {
   "cell_type": "code",
   "execution_count": 2,
   "id": "12c44deb",
   "metadata": {},
   "outputs": [
    {
     "name": "stdout",
     "output_type": "stream",
     "text": [
      "Q1: There are 1154112 records in the January data\n"
     ]
    }
   ],
   "source": [
    "df = pd.read_parquet('fhv_tripdata_2021-01.parquet')\n",
    "print('Q1: There are', df.shape[0], 'records in the January data')"
   ]
  },
  {
   "cell_type": "markdown",
   "id": "7c828e68",
   "metadata": {},
   "source": [
    "# • Q2\n",
    "### What's the average trip duration in January?"
   ]
  },
  {
   "cell_type": "code",
   "execution_count": 8,
   "id": "845bc61d",
   "metadata": {},
   "outputs": [
    {
     "name": "stdout",
     "output_type": "stream",
     "text": [
      "Q2: The average trip duration in January was: 19.167\n"
     ]
    }
   ],
   "source": [
    "df['duration'] = df['dropOff_datetime'] - df['pickup_datetime']\n",
    "df['duration'] = df.duration.apply(lambda td: td.total_seconds() / 60)\n",
    "print('Q2: The average trip duration in January was:', df['duration'].mean().round(3))"
   ]
  },
  {
   "cell_type": "code",
   "execution_count": 28,
   "id": "6dc8008e",
   "metadata": {},
   "outputs": [],
   "source": [
    "df_wo_outliers = df[(df.duration >= 1) & (df.duration <= 60)]"
   ]
  },
  {
   "cell_type": "markdown",
   "id": "98de0088",
   "metadata": {},
   "source": [
    "### How many records did you drop?"
   ]
  },
  {
   "cell_type": "code",
   "execution_count": 31,
   "id": "3ae26dc6",
   "metadata": {
    "scrolled": false
   },
   "outputs": [
    {
     "name": "stderr",
     "output_type": "stream",
     "text": [
      "C:\\Users\\gpires\\Gabriel\\lib\\site-packages\\seaborn\\distributions.py:2619: FutureWarning: `distplot` is a deprecated function and will be removed in a future version. Please adapt your code to use either `displot` (a figure-level function with similar flexibility) or `histplot` (an axes-level function for histograms).\n",
      "  warnings.warn(msg, FutureWarning)\n"
     ]
    },
    {
     "data": {
      "image/png": "[encoded data removed]",
      "text/plain": [
       "<Figure size 576x432 with 1 Axes>"
      ]
     },
     "metadata": {
      "needs_background": "light"
     },
     "output_type": "display_data"
    }
   ],
   "source": [
    "plt.figure(figsize=(8,6))\n",
    "sns.distplot(df_wo_outliers.duration)\n",
    "plt.title('Distribution of filtered values')\n",
    "plt.show()"
   ]
  },
  {
   "cell_type": "code",
   "execution_count": 33,
   "id": "9556f583",
   "metadata": {},
   "outputs": [
    {
     "name": "stderr",
     "output_type": "stream",
     "text": [
      "C:\\Users\\gpires\\Gabriel\\lib\\site-packages\\seaborn\\_decorators.py:36: FutureWarning: Pass the following variable as a keyword arg: x. From version 0.12, the only valid positional argument will be `data`, and passing other arguments without an explicit keyword will result in an error or misinterpretation.\n",
      "  warnings.warn(\n"
     ]
    },
    {
     "data": {
      "image/png": "[encoded data removed]",
      "text/plain": [
       "<Figure size 576x432 with 1 Axes>"
      ]
     },
     "metadata": {
      "needs_background": "light"
     },
     "output_type": "display_data"
    }
   ],
   "source": [
    "plt.figure(figsize=(8,6))\n",
    "sns.boxplot(df_wo_outliers.duration)\n",
    "plt.title('Distribution of filtered values')\n",
    "plt.show()"
   ]
  },
  {
   "cell_type": "code",
   "execution_count": 35,
   "id": "a31ed8e2",
   "metadata": {},
   "outputs": [
    {
     "name": "stdout",
     "output_type": "stream",
     "text": [
      "44286 records was dropped.\n"
     ]
    }
   ],
   "source": [
    "print(df.shape[0] - df_wo_outliers.shape[0], 'records was dropped.')"
   ]
  },
  {
   "cell_type": "markdown",
   "id": "cb662b1e",
   "metadata": {},
   "source": [
    "# • Q3\n",
    "### What's the fractions of missing values for the pickup location ID? I.e. fraction of \"-1\"s after you filled the NAs."
   ]
  },
  {
   "cell_type": "code",
   "execution_count": 83,
   "id": "190287fe",
   "metadata": {},
   "outputs": [
    {
     "name": "stdout",
     "output_type": "stream",
     "text": [
      "There are 83.5% missing values, filled with -1.\n"
     ]
    },
    {
     "name": "stderr",
     "output_type": "stream",
     "text": [
      "C:\\Users\\gpires\\AppData\\Local\\Temp\\ipykernel_4588\\2297512854.py:1: SettingWithCopyWarning: \n",
      "A value is trying to be set on a copy of a slice from a DataFrame.\n",
      "Try using .loc[row_indexer,col_indexer] = value instead\n",
      "\n",
      "See the caveats in the documentation: https://pandas.pydata.org/pandas-docs/stable/user_guide/indexing.html#returning-a-view-versus-a-copy\n",
      "  df_wo_outliers[['PUlocationID', 'DOlocationID']] = df_wo_outliers[['PUlocationID','DOlocationID']].fillna(value=-1)\n"
     ]
    }
   ],
   "source": [
    "df_wo_outliers[['PUlocationID', 'DOlocationID']] = df_wo_outliers[['PUlocationID','DOlocationID']].fillna(value=-1)\n",
    "print('There are {:,.1f}% missing values, filled with -1.'.format(((df_wo_outliers[df_wo_outliers['PUlocationID'] == -1].shape[0] / df_wo_outliers.shape[0]) * 100)))"
   ]
  },
  {
   "cell_type": "markdown",
   "id": "701de6f5",
   "metadata": {},
   "source": [
    "# • Q4\n",
    "###  What's the dimensionality of this matrix? (The number of columns)."
   ]
  },
  {
   "cell_type": "code",
   "execution_count": 92,
   "id": "9f1deb64",
   "metadata": {},
   "outputs": [
    {
     "name": "stderr",
     "output_type": "stream",
     "text": [
      "C:\\Users\\gpires\\AppData\\Local\\Temp\\ipykernel_4588\\1510727951.py:2: SettingWithCopyWarning: \n",
      "A value is trying to be set on a copy of a slice from a DataFrame.\n",
      "Try using .loc[row_indexer,col_indexer] = value instead\n",
      "\n",
      "See the caveats in the documentation: https://pandas.pydata.org/pandas-docs/stable/user_guide/indexing.html#returning-a-view-versus-a-copy\n",
      "  df_wo_outliers[categorical] = df_wo_outliers[categorical].astype(str)\n"
     ]
    },
    {
     "name": "stdout",
     "output_type": "stream",
     "text": [
      "The matrix dimensionality is: 525\n"
     ]
    }
   ],
   "source": [
    "categorical = ['PUlocationID', 'DOlocationID']\n",
    "df_wo_outliers[categorical] = df_wo_outliers[categorical].astype(str)\n",
    "\n",
    "train_dicts = df_wo_outliers[categorical].to_dict(orient='records')\n",
    "\n",
    "dv = DictVectorizer()\n",
    "X_train = dv.fit_transform(train_dicts)\n",
    "\n",
    "print('The matrix dimensionality is:',X_train.shape[1])"
   ]
  },
  {
   "cell_type": "markdown",
   "id": "02ed353f",
   "metadata": {},
   "source": [
    "# • Q5\n",
    "### What's the RMSE on train?"
   ]
  },
  {
   "cell_type": "code",
   "execution_count": 101,
   "id": "e6dd06a1",
   "metadata": {},
   "outputs": [
    {
     "name": "stdout",
     "output_type": "stream",
     "text": [
      "The RMSE for training was: 10.529\n"
     ]
    }
   ],
   "source": [
    "target = 'duration'\n",
    "y_train = df_wo_outliers[target].values\n",
    "\n",
    "lr = LinearRegression()\n",
    "lr.fit(X_train, y_train)\n",
    "\n",
    "y_pred = lr.predict(X_train)\n",
    "\n",
    "print('The RMSE for training was:', mean_squared_error(y_train, y_pred, squared=False).round(3))"
   ]
  },
  {
   "cell_type": "markdown",
   "id": "5b1b5de6",
   "metadata": {},
   "source": [
    "# • Q6\n",
    "### What's the RMSE on validation?"
   ]
  },
  {
   "cell_type": "code",
   "execution_count": 110,
   "id": "076757fe",
   "metadata": {},
   "outputs": [],
   "source": [
    "def read_dataframe(filename):\n",
    "    df = pd.read_parquet(filename)\n",
    "\n",
    "    df['duration'] = df['dropOff_datetime'] - df['pickup_datetime']\n",
    "    df['duration'] = df.duration.apply(lambda td: td.total_seconds() / 60)\n",
    "\n",
    "    df_wo_outliers = df[(df.duration >= 1) & (df.duration <= 60)]\n",
    "\n",
    "    df_wo_outliers[['PUlocationID', 'DOlocationID']] = df_wo_outliers[['PUlocationID','DOlocationID']].fillna(value=-1)\n",
    "    \n",
    "    categorical = ['PUlocationID', 'DOlocationID']\n",
    "    df_wo_outliers[categorical] = df_wo_outliers[categorical].astype(str)\n",
    "    \n",
    "    return df_wo_outliers"
   ]
  },
  {
   "cell_type": "code",
   "execution_count": 112,
   "id": "417f4952",
   "metadata": {},
   "outputs": [
    {
     "name": "stderr",
     "output_type": "stream",
     "text": [
      "C:\\Users\\gpires\\AppData\\Local\\Temp\\ipykernel_4588\\2318464649.py:9: SettingWithCopyWarning: \n",
      "A value is trying to be set on a copy of a slice from a DataFrame.\n",
      "Try using .loc[row_indexer,col_indexer] = value instead\n",
      "\n",
      "See the caveats in the documentation: https://pandas.pydata.org/pandas-docs/stable/user_guide/indexing.html#returning-a-view-versus-a-copy\n",
      "  df_wo_outliers[['PUlocationID', 'DOlocationID']] = df_wo_outliers[['PUlocationID','DOlocationID']].fillna(value=-1)\n",
      "C:\\Users\\gpires\\AppData\\Local\\Temp\\ipykernel_4588\\2318464649.py:12: SettingWithCopyWarning: \n",
      "A value is trying to be set on a copy of a slice from a DataFrame.\n",
      "Try using .loc[row_indexer,col_indexer] = value instead\n",
      "\n",
      "See the caveats in the documentation: https://pandas.pydata.org/pandas-docs/stable/user_guide/indexing.html#returning-a-view-versus-a-copy\n",
      "  df_wo_outliers[categorical] = df_wo_outliers[categorical].astype(str)\n",
      "C:\\Users\\gpires\\AppData\\Local\\Temp\\ipykernel_4588\\2318464649.py:9: SettingWithCopyWarning: \n",
      "A value is trying to be set on a copy of a slice from a DataFrame.\n",
      "Try using .loc[row_indexer,col_indexer] = value instead\n",
      "\n",
      "See the caveats in the documentation: https://pandas.pydata.org/pandas-docs/stable/user_guide/indexing.html#returning-a-view-versus-a-copy\n",
      "  df_wo_outliers[['PUlocationID', 'DOlocationID']] = df_wo_outliers[['PUlocationID','DOlocationID']].fillna(value=-1)\n",
      "C:\\Users\\gpires\\AppData\\Local\\Temp\\ipykernel_4588\\2318464649.py:12: SettingWithCopyWarning: \n",
      "A value is trying to be set on a copy of a slice from a DataFrame.\n",
      "Try using .loc[row_indexer,col_indexer] = value instead\n",
      "\n",
      "See the caveats in the documentation: https://pandas.pydata.org/pandas-docs/stable/user_guide/indexing.html#returning-a-view-versus-a-copy\n",
      "  df_wo_outliers[categorical] = df_wo_outliers[categorical].astype(str)\n"
     ]
    }
   ],
   "source": [
    "df_train = read_dataframe('fhv_tripdata_2021-01.parquet')\n",
    "df_val = read_dataframe('fhv_tripdata_2021-02.parquet')"
   ]
  },
  {
   "cell_type": "code",
   "execution_count": 121,
   "id": "d52aace6",
   "metadata": {},
   "outputs": [
    {
     "name": "stdout",
     "output_type": "stream",
     "text": [
      "The RMSE for testing was: 11.014\n"
     ]
    }
   ],
   "source": [
    "categorical = ['PUlocationID', 'DOlocationID']\n",
    "df_train[categorical] = df_train[categorical].astype(str)\n",
    "df_val[categorical] = df_val[categorical].astype(str)\n",
    "\n",
    "dv = DictVectorizer()\n",
    "\n",
    "train_dicts = df_train[categorical].to_dict(orient='records')\n",
    "X_train = dv.fit_transform(train_dicts)\n",
    "\n",
    "val_dicts = df_val[categorical].to_dict(orient='records')\n",
    "X_val = dv.transform(val_dicts)\n",
    "\n",
    "target = 'duration'\n",
    "y_train = df_train[target].values\n",
    "y_val = df_val[target].values\n",
    "\n",
    "lr = LinearRegression()\n",
    "lr.fit(X_train, y_train)\n",
    "\n",
    "y_pred = lr.predict(X_val)\n",
    "\n",
    "print('The RMSE for testing was:', mean_squared_error(y_val, y_pred, squared=False).round(3))"
   ]
  },
  {
   "cell_type": "code",
   "execution_count": null,
   "id": "c36a39b6",
   "metadata": {},
   "outputs": [],
   "source": []
  }
 ],
 "metadata": {
  "kernelspec": {
   "display_name": "Python 3 (ipykernel)",
   "language": "python",
   "name": "python3"
  },
  "language_info": {
   "codemirror_mode": {
    "name": "ipython",
    "version": 3
   },
   "file_extension": ".py",
   "mimetype": "text/x-python",
   "name": "python",
   "nbconvert_exporter": "python",
   "pygments_lexer": "ipython3",
   "version": "3.9.11"
  }
 },
 "nbformat": 4,
 "nbformat_minor": 5
}
