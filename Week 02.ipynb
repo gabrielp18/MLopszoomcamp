{
 "cells": [
  {
   "cell_type": "code",
   "execution_count": 1,
   "id": "6dfef52a",
   "metadata": {},
   "outputs": [],
   "source": [
    "import mlflow\n",
    "from mlflow.tracking import MlflowClient\n",
    "from mlflow.entities import ViewType"
   ]
  },
  {
   "cell_type": "markdown",
   "id": "3c2fd761",
   "metadata": {},
   "source": [
    "## Q1. What's the version that you have?"
   ]
  },
  {
   "cell_type": "code",
   "execution_count": 2,
   "id": "59df8be9",
   "metadata": {},
   "outputs": [
    {
     "name": "stdout",
     "output_type": "stream",
     "text": [
      "The version of my mlflow is: 1.26.1\n"
     ]
    }
   ],
   "source": [
    "print('The version of my mlflow is:', mlflow.__version__)"
   ]
  },
  {
   "cell_type": "markdown",
   "id": "8fdc82b2",
   "metadata": {},
   "source": [
    "## Q2. How many files were saved to OUTPUT_FOLDER?"
   ]
  },
  {
   "cell_type": "code",
   "execution_count": 14,
   "id": "e93a0905",
   "metadata": {},
   "outputs": [],
   "source": [
    "! python ./preprocess_data.py --raw_data_path . --dest_path ./output"
   ]
  },
  {
   "cell_type": "code",
   "execution_count": 4,
   "id": "b39460e7",
   "metadata": {},
   "outputs": [
    {
     "name": "stdout",
     "output_type": "stream",
     "text": [
      "There are four files saved: dv, test, train and valid\n"
     ]
    }
   ],
   "source": [
    "print('There are four files saved: dv, test, train and valid')"
   ]
  },
  {
   "cell_type": "markdown",
   "id": "141ac56b",
   "metadata": {},
   "source": [
    "## Q3. How many parameters are automatically logged by MLflow?"
   ]
  },
  {
   "cell_type": "code",
   "execution_count": 6,
   "id": "4f49e3fd",
   "metadata": {},
   "outputs": [],
   "source": [
    "import os\n",
    "os.environ[\"GIT_PYTHON_REFRESH\"] = \"quiet\"\n",
    "import git"
   ]
  },
  {
   "cell_type": "code",
   "execution_count": 15,
   "id": "fea12705",
   "metadata": {},
   "outputs": [
    {
     "name": "stderr",
     "output_type": "stream",
     "text": [
      "2022/05/30 17:11:59 INFO mlflow.tracking.fluent: Experiment with name 'mlops-experiment' does not exist. Creating a new experiment.\n"
     ]
    }
   ],
   "source": [
    "! python ./train.py --data_path ./output"
   ]
  },
  {
   "cell_type": "markdown",
   "id": "173551fc",
   "metadata": {},
   "source": [
    "There are 17 parameters\n",
    "<img src=\"1.png\">"
   ]
  },
  {
   "cell_type": "markdown",
   "id": "42045291",
   "metadata": {},
   "source": [
    "## Q4. In addition to backend-store-uri, what else do you need to pass to properly configure the server?"
   ]
  },
  {
   "cell_type": "markdown",
   "id": "f00f73eb",
   "metadata": {},
   "source": [
    "mlflow ui --backend-store-uri file:///Users/gpires/mlruns --default-artifact-root ./artifacts"
   ]
  },
  {
   "cell_type": "markdown",
   "id": "b89c4105",
   "metadata": {},
   "source": [
    "## Q5. What's the best validation RMSE that you got?"
   ]
  },
  {
   "cell_type": "code",
   "execution_count": 16,
   "id": "5c812bab",
   "metadata": {},
   "outputs": [
    {
     "name": "stdout",
     "output_type": "stream",
     "text": [
      "\n",
      "  0%|          | 0/50 [00:00<?, ?trial/s, best loss=?]\n",
      "  2%|2         | 1/50 [00:17<14:02, 17.20s/trial, best loss: 6.658956269343007]\n",
      "  4%|4         | 2/50 [00:17<05:57,  7.44s/trial, best loss: 6.658956269343007]\n",
      "  6%|6         | 3/50 [00:18<03:33,  4.54s/trial, best loss: 6.658956269343007]\n",
      "  8%|8         | 4/50 [00:32<06:08,  8.01s/trial, best loss: 6.651438559376775]\n",
      " 10%|#         | 5/50 [00:37<05:11,  6.92s/trial, best loss: 6.651438559376775]\n",
      " 12%|#2        | 6/50 [00:56<08:15, 11.26s/trial, best loss: 6.651438559376775]\n",
      " 14%|#4        | 7/50 [01:15<09:49, 13.71s/trial, best loss: 6.651438559376775]\n",
      " 16%|#6        | 8/50 [01:17<06:54,  9.88s/trial, best loss: 6.651438559376775]\n",
      " 18%|#8        | 9/50 [01:28<06:55, 10.14s/trial, best loss: 6.651438559376775]\n",
      " 20%|##        | 10/50 [01:37<06:32,  9.81s/trial, best loss: 6.651438559376775]\n",
      " 22%|##2       | 11/50 [01:45<06:04,  9.35s/trial, best loss: 6.642137287429206]\n",
      " 24%|##4       | 12/50 [01:51<05:15,  8.30s/trial, best loss: 6.642137287429206]\n",
      " 26%|##6       | 13/50 [01:53<03:56,  6.38s/trial, best loss: 6.642137287429206]\n",
      " 28%|##8       | 14/50 [01:59<03:52,  6.47s/trial, best loss: 6.642137287429206]\n",
      " 30%|###       | 15/50 [02:11<04:43,  8.11s/trial, best loss: 6.642137287429206]\n",
      " 32%|###2      | 16/50 [02:18<04:23,  7.76s/trial, best loss: 6.642137287429206]\n",
      " 34%|###4      | 17/50 [02:30<04:57,  9.01s/trial, best loss: 6.642137287429206]\n",
      " 36%|###6      | 18/50 [02:50<06:27, 12.11s/trial, best loss: 6.629728007710133]\n",
      " 38%|###8      | 19/50 [02:54<05:05,  9.84s/trial, best loss: 6.629728007710133]\n",
      " 40%|####      | 20/50 [02:57<03:50,  7.68s/trial, best loss: 6.629728007710133]\n",
      " 42%|####2     | 21/50 [03:25<06:43, 13.93s/trial, best loss: 6.629728007710133]\n",
      " 44%|####4     | 22/50 [03:46<07:31, 16.12s/trial, best loss: 6.629728007710133]\n",
      " 46%|####6     | 23/50 [04:20<09:37, 21.38s/trial, best loss: 6.629728007710133]\n",
      " 48%|####8     | 24/50 [04:49<10:12, 23.57s/trial, best loss: 6.629728007710133]\n",
      " 50%|#####     | 25/50 [05:10<09:28, 22.76s/trial, best loss: 6.629728007710133]\n",
      " 52%|#####2    | 26/50 [05:31<08:56, 22.35s/trial, best loss: 6.629728007710133]\n",
      " 54%|#####4    | 27/50 [05:42<07:12, 18.82s/trial, best loss: 6.629728007710133]\n",
      " 56%|#####6    | 28/50 [06:06<07:31, 20.50s/trial, best loss: 6.629728007710133]\n",
      " 58%|#####8    | 29/50 [06:13<05:45, 16.47s/trial, best loss: 6.629728007710133]\n",
      " 60%|######    | 30/50 [06:37<06:13, 18.65s/trial, best loss: 6.629728007710133]\n",
      " 62%|######2   | 31/50 [06:38<04:13, 13.32s/trial, best loss: 6.629728007710133]\n",
      " 64%|######4   | 32/50 [06:52<04:07, 13.73s/trial, best loss: 6.629728007710133]\n",
      " 66%|######6   | 33/50 [07:18<04:53, 17.24s/trial, best loss: 6.629728007710133]\n",
      " 68%|######8   | 34/50 [07:41<05:03, 18.96s/trial, best loss: 6.6284257482044735]\n",
      " 70%|#######   | 35/50 [07:52<04:10, 16.72s/trial, best loss: 6.6284257482044735]\n",
      " 72%|#######2  | 36/50 [08:05<03:38, 15.58s/trial, best loss: 6.6284257482044735]\n",
      " 74%|#######4  | 37/50 [08:06<02:22, 10.99s/trial, best loss: 6.6284257482044735]\n",
      " 76%|#######6  | 38/50 [08:21<02:28, 12.36s/trial, best loss: 6.6284257482044735]\n",
      " 78%|#######8  | 39/50 [08:42<02:43, 14.85s/trial, best loss: 6.6284257482044735]\n",
      " 80%|########  | 40/50 [09:01<02:42, 16.29s/trial, best loss: 6.6284257482044735]\n",
      " 82%|########2 | 41/50 [09:05<01:51, 12.39s/trial, best loss: 6.6284257482044735]\n",
      " 84%|########4 | 42/50 [09:13<01:28, 11.08s/trial, best loss: 6.6284257482044735]\n",
      " 86%|########6 | 43/50 [09:25<01:20, 11.52s/trial, best loss: 6.6284257482044735]\n",
      " 88%|########8 | 44/50 [09:43<01:21, 13.52s/trial, best loss: 6.6284257482044735]\n",
      " 90%|######### | 45/50 [09:52<00:59, 11.88s/trial, best loss: 6.6284257482044735]\n",
      " 92%|#########2| 46/50 [09:53<00:35,  8.87s/trial, best loss: 6.6284257482044735]\n",
      " 94%|#########3| 47/50 [10:07<00:30, 10.19s/trial, best loss: 6.6284257482044735]\n",
      " 96%|#########6| 48/50 [10:12<00:17,  8.78s/trial, best loss: 6.6284257482044735]\n",
      " 98%|#########8| 49/50 [10:24<00:09,  9.61s/trial, best loss: 6.6284257482044735]\n",
      "100%|##########| 50/50 [10:39<00:00, 11.19s/trial, best loss: 6.6284257482044735]\n",
      "100%|##########| 50/50 [10:39<00:00, 12.78s/trial, best loss: 6.6284257482044735]\n"
     ]
    }
   ],
   "source": [
    "! python ./hpo.py --data_path ./output"
   ]
  },
  {
   "cell_type": "code",
   "execution_count": 23,
   "id": "4b9dcbab",
   "metadata": {},
   "outputs": [
    {
     "name": "stdout",
     "output_type": "stream",
     "text": [
      "run id: 6374d61772234a8896167bcfe4060246, rmse: 6.6284\n",
      "run id: b137e0630c4d4c7eaf1aab651fb40040, rmse: 6.6297\n",
      "run id: b9a511c5b2694cbbba8c7735b2f1b027, rmse: 6.6299\n",
      "run id: cb28ef5fb0bd4d8b8aa1e5d7a80e60c1, rmse: 6.6299\n",
      "run id: d451dc69f0e04661a01039b6cbb8f5ef, rmse: 6.6299\n"
     ]
    }
   ],
   "source": [
    "MLFLOW_TRACKING_URI = \"file:///Users/gpires/mlruns\"\n",
    "\n",
    "client = MlflowClient(tracking_uri=MLFLOW_TRACKING_URI)\n",
    "\n",
    "runs = client.search_runs(\n",
    "    experiment_ids='1',\n",
    "    filter_string=\"metrics.rmse < 10\",\n",
    "    run_view_type=ViewType.ACTIVE_ONLY,\n",
    "    max_results=5,\n",
    "    order_by=[\"metrics.rmse ASC\"]\n",
    ")\n",
    "\n",
    "for run in runs:\n",
    "    print(f\"run id: {run.info.run_id}, rmse: {run.data.metrics['rmse']:.4f}\")"
   ]
  },
  {
   "cell_type": "code",
   "execution_count": 24,
   "id": "b35ded6e",
   "metadata": {},
   "outputs": [
    {
     "name": "stdout",
     "output_type": "stream",
     "text": [
      "The best rmse was 6.6284\n"
     ]
    }
   ],
   "source": [
    "print('The best rmse was 6.6284')"
   ]
  },
  {
   "cell_type": "markdown",
   "id": "075838a3",
   "metadata": {},
   "source": [
    "## Q6. What is the test RMSE of the best model?"
   ]
  },
  {
   "cell_type": "code",
   "execution_count": 26,
   "id": "ae994149",
   "metadata": {},
   "outputs": [],
   "source": [
    "! python ./register_model.py --data_path ./output"
   ]
  },
  {
   "cell_type": "code",
   "execution_count": 33,
   "id": "c0038e8a",
   "metadata": {},
   "outputs": [
    {
     "name": "stdout",
     "output_type": "stream",
     "text": [
      "run id: c44791883643485497b78daf31226bc9, rmse: 6.5489\n",
      "run id: 46a9d8f147a94dfda3571a5cf66fab48, rmse: 6.5491\n",
      "run id: 1528d15a554d4ef6beffba1ccc8af0dd, rmse: 6.5491\n",
      "run id: a85ac50e475a47e48d04cb331def1b4c, rmse: 6.5498\n",
      "run id: 5964c59b947f4d20a2447ddc911353a5, rmse: 6.5479\n"
     ]
    }
   ],
   "source": [
    "MLFLOW_TRACKING_URI = \"file:///Users/gpires/mlruns\"\n",
    "\n",
    "client = MlflowClient(tracking_uri=MLFLOW_TRACKING_URI)\n",
    "\n",
    "runs = client.search_runs(\n",
    "    experiment_ids='3',\n",
    "    filter_string=\"metrics.test_rmse < 10\",\n",
    "    run_view_type=ViewType.ACTIVE_ONLY,\n",
    "    max_results=5,\n",
    "    order_by=[\"metrics.rmse ASC\"]\n",
    ")\n",
    "\n",
    "for run in runs:\n",
    "    print(f\"run id: {run.info.run_id}, rmse: {run.data.metrics['test_rmse']:.4f}\")"
   ]
  },
  {
   "cell_type": "code",
   "execution_count": 34,
   "id": "270c906f",
   "metadata": {},
   "outputs": [
    {
     "name": "stdout",
     "output_type": "stream",
     "text": [
      "The best rmse was 6.5489\n"
     ]
    }
   ],
   "source": [
    "print('The best rmse was 6.5489')"
   ]
  }
 ],
 "metadata": {
  "kernelspec": {
   "display_name": "Python 3 (ipykernel)",
   "language": "python",
   "name": "python3"
  },
  "language_info": {
   "codemirror_mode": {
    "name": "ipython",
    "version": 3
   },
   "file_extension": ".py",
   "mimetype": "text/x-python",
   "name": "python",
   "nbconvert_exporter": "python",
   "pygments_lexer": "ipython3",
   "version": "3.9.11"
  }
 },
 "nbformat": 4,
 "nbformat_minor": 5
}
